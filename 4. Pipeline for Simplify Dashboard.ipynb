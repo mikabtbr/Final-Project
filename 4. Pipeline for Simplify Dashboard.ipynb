{
 "cells": [
  {
   "cell_type": "code",
   "execution_count": 1007,
   "metadata": {
    "ExecuteTime": {
     "end_time": "2020-11-24T14:48:01.067654Z",
     "start_time": "2020-11-24T14:48:00.887347Z"
    }
   },
   "outputs": [],
   "source": [
    "import pandas as pd\n",
    "import numpy as np\n",
    "import seaborn as sns\n",
    "import matplotlib.pyplot as plt\n",
    "import warnings\n",
    "import joblib\n",
    "warnings.filterwarnings('ignore')\n",
    "%matplotlib inline\n",
    "pd.set_option('display.max_rows', 100)\n",
    "pd.set_option('display.max_columns', 500)\n"
   ]
  },
  {
   "cell_type": "code",
   "execution_count": 1008,
   "metadata": {
    "ExecuteTime": {
     "end_time": "2020-11-24T14:48:01.098338Z",
     "start_time": "2020-11-24T14:48:01.070375Z"
    }
   },
   "outputs": [],
   "source": [
    "from jupyterthemes import jtplot\n",
    "jtplot.style(theme='monokai')"
   ]
  },
  {
   "cell_type": "code",
   "execution_count": 1009,
   "metadata": {
    "ExecuteTime": {
     "end_time": "2020-11-24T14:48:01.515888Z",
     "start_time": "2020-11-24T14:48:01.506909Z"
    }
   },
   "outputs": [],
   "source": [
    "from sklearn.pipeline import Pipeline\n",
    "from sklearn.compose import ColumnTransformer\n",
    "from sklearn.preprocessing import OneHotEncoder, LabelEncoder, MinMaxScaler, StandardScaler, RobustScaler\n",
    "from sklearn.preprocessing import FunctionTransformer\n",
    "from sklearn.ensemble import RandomForestRegressor"
   ]
  },
  {
   "cell_type": "code",
   "execution_count": 1010,
   "metadata": {
    "ExecuteTime": {
     "end_time": "2020-11-24T14:48:01.935508Z",
     "start_time": "2020-11-24T14:48:01.916591Z"
    }
   },
   "outputs": [],
   "source": [
    "from sklearn.model_selection import train_test_split,GridSearchCV,RandomizedSearchCV\n",
    "from sklearn.metrics import r2_score,mean_absolute_error,mean_squared_error"
   ]
  },
  {
   "cell_type": "code",
   "execution_count": 1011,
   "metadata": {
    "ExecuteTime": {
     "end_time": "2020-11-24T14:48:03.323555Z",
     "start_time": "2020-11-24T14:48:03.195073Z"
    }
   },
   "outputs": [],
   "source": [
    "df=pd.read_csv('forpipeline.csv',index_col=0)"
   ]
  },
  {
   "cell_type": "code",
   "execution_count": 1012,
   "metadata": {
    "ExecuteTime": {
     "end_time": "2020-11-24T14:48:06.857714Z",
     "start_time": "2020-11-24T14:48:06.823974Z"
    }
   },
   "outputs": [
    {
     "data": {
      "text/html": [
       "<div>\n",
       "<style scoped>\n",
       "    .dataframe tbody tr th:only-of-type {\n",
       "        vertical-align: middle;\n",
       "    }\n",
       "\n",
       "    .dataframe tbody tr th {\n",
       "        vertical-align: top;\n",
       "    }\n",
       "\n",
       "    .dataframe thead th {\n",
       "        text-align: right;\n",
       "    }\n",
       "</style>\n",
       "<table border=\"1\" class=\"dataframe\">\n",
       "  <thead>\n",
       "    <tr style=\"text-align: right;\">\n",
       "      <th></th>\n",
       "      <th>neighbourhood_group</th>\n",
       "      <th>room_type</th>\n",
       "      <th>price</th>\n",
       "      <th>minimum_nights</th>\n",
       "      <th>number_of_reviews</th>\n",
       "      <th>calculated_host_listings_count</th>\n",
       "      <th>availability_365</th>\n",
       "      <th>host_is_superhost</th>\n",
       "      <th>property_type</th>\n",
       "      <th>bedrooms</th>\n",
       "      <th>beds</th>\n",
       "      <th>guests_included</th>\n",
       "      <th>review_scores_rating</th>\n",
       "      <th>instant_bookable</th>\n",
       "      <th>bathrooms</th>\n",
       "      <th>security_deposit</th>\n",
       "      <th>cleaning_fee</th>\n",
       "      <th>len_amenities</th>\n",
       "      <th>budget_dorm</th>\n",
       "    </tr>\n",
       "    <tr>\n",
       "      <th>id</th>\n",
       "      <th></th>\n",
       "      <th></th>\n",
       "      <th></th>\n",
       "      <th></th>\n",
       "      <th></th>\n",
       "      <th></th>\n",
       "      <th></th>\n",
       "      <th></th>\n",
       "      <th></th>\n",
       "      <th></th>\n",
       "      <th></th>\n",
       "      <th></th>\n",
       "      <th></th>\n",
       "      <th></th>\n",
       "      <th></th>\n",
       "      <th></th>\n",
       "      <th></th>\n",
       "      <th></th>\n",
       "      <th></th>\n",
       "    </tr>\n",
       "  </thead>\n",
       "  <tbody>\n",
       "    <tr>\n",
       "      <th>49091</th>\n",
       "      <td>North Region</td>\n",
       "      <td>Private room</td>\n",
       "      <td>84</td>\n",
       "      <td>180</td>\n",
       "      <td>1</td>\n",
       "      <td>2</td>\n",
       "      <td>365</td>\n",
       "      <td>f</td>\n",
       "      <td>Apartment</td>\n",
       "      <td>1</td>\n",
       "      <td>1</td>\n",
       "      <td>1</td>\n",
       "      <td>94.0</td>\n",
       "      <td>f</td>\n",
       "      <td>1</td>\n",
       "      <td>0.0</td>\n",
       "      <td>0.0</td>\n",
       "      <td>8</td>\n",
       "      <td>0</td>\n",
       "    </tr>\n",
       "  </tbody>\n",
       "</table>\n",
       "</div>"
      ],
      "text/plain": [
       "      neighbourhood_group     room_type  price  minimum_nights  \\\n",
       "id                                                               \n",
       "49091        North Region  Private room     84             180   \n",
       "\n",
       "       number_of_reviews  calculated_host_listings_count  availability_365  \\\n",
       "id                                                                           \n",
       "49091                  1                               2               365   \n",
       "\n",
       "      host_is_superhost property_type  bedrooms  beds  guests_included  \\\n",
       "id                                                                       \n",
       "49091                 f     Apartment         1     1                1   \n",
       "\n",
       "       review_scores_rating instant_bookable  bathrooms  security_deposit  \\\n",
       "id                                                                          \n",
       "49091                  94.0                f          1               0.0   \n",
       "\n",
       "       cleaning_fee  len_amenities  budget_dorm  \n",
       "id                                               \n",
       "49091           0.0              8            0  "
      ]
     },
     "execution_count": 1012,
     "metadata": {},
     "output_type": "execute_result"
    }
   ],
   "source": [
    "df.head(1)"
   ]
  },
  {
   "cell_type": "code",
   "execution_count": 520,
   "metadata": {
    "ExecuteTime": {
     "end_time": "2020-11-24T12:45:40.274020Z",
     "start_time": "2020-11-24T12:45:40.266006Z"
    }
   },
   "outputs": [],
   "source": [
    "# df.drop(columns=['id'],inplace=True)"
   ]
  },
  {
   "cell_type": "code",
   "execution_count": 1013,
   "metadata": {
    "ExecuteTime": {
     "end_time": "2020-11-24T14:48:15.255656Z",
     "start_time": "2020-11-24T14:48:15.209359Z"
    }
   },
   "outputs": [],
   "source": [
    "X_pipe = df.drop(columns=['price']) ### Features / Soal\n",
    "y_pipe = df['price']\n",
    "y_pipe = np.log1p(y_pipe)\n",
    "X_train_pipe, X_test_pipe, y_train_pipe, y_test_pipe = train_test_split(X_pipe, y_pipe, test_size = .3, random_state = 42 )"
   ]
  },
  {
   "cell_type": "code",
   "execution_count": 1014,
   "metadata": {
    "ExecuteTime": {
     "end_time": "2020-11-24T14:48:15.773376Z",
     "start_time": "2020-11-24T14:48:15.749441Z"
    }
   },
   "outputs": [
    {
     "name": "stdout",
     "output_type": "stream",
     "text": [
      "<class 'pandas.core.frame.DataFrame'>\n",
      "Int64Index: 4867 entries, 41766305 to 9959188\n",
      "Data columns (total 18 columns):\n",
      " #   Column                          Non-Null Count  Dtype  \n",
      "---  ------                          --------------  -----  \n",
      " 0   neighbourhood_group             4867 non-null   object \n",
      " 1   room_type                       4867 non-null   object \n",
      " 2   minimum_nights                  4867 non-null   int64  \n",
      " 3   number_of_reviews               4867 non-null   int64  \n",
      " 4   calculated_host_listings_count  4867 non-null   int64  \n",
      " 5   availability_365                4867 non-null   int64  \n",
      " 6   host_is_superhost               4867 non-null   object \n",
      " 7   property_type                   4867 non-null   object \n",
      " 8   bedrooms                        4867 non-null   int64  \n",
      " 9   beds                            4867 non-null   int64  \n",
      " 10  guests_included                 4867 non-null   int64  \n",
      " 11  review_scores_rating            4867 non-null   float64\n",
      " 12  instant_bookable                4867 non-null   object \n",
      " 13  bathrooms                       4867 non-null   int64  \n",
      " 14  security_deposit                4867 non-null   float64\n",
      " 15  cleaning_fee                    4867 non-null   float64\n",
      " 16  len_amenities                   4867 non-null   int64  \n",
      " 17  budget_dorm                     4867 non-null   int64  \n",
      "dtypes: float64(3), int64(10), object(5)\n",
      "memory usage: 722.4+ KB\n"
     ]
    }
   ],
   "source": [
    "X_train_pipe.info()"
   ]
  },
  {
   "cell_type": "code",
   "execution_count": 1015,
   "metadata": {
    "ExecuteTime": {
     "end_time": "2020-11-24T14:48:18.228110Z",
     "start_time": "2020-11-24T14:48:18.215146Z"
    }
   },
   "outputs": [],
   "source": [
    "cat_columns = ['neighbourhood_group', 'room_type','host_is_superhost', 'property_type', 'instant_bookable']\n",
    "\n",
    "num_columns = ['minimum_nights', 'number_of_reviews','review_scores_rating', 'calculated_host_listings_count', 'availability_365', 'bedrooms','beds','bathrooms','guests_included','security_deposit','cleaning_fee','len_amenities','budget_dorm']"
   ]
  },
  {
   "cell_type": "code",
   "execution_count": 1016,
   "metadata": {
    "ExecuteTime": {
     "end_time": "2020-11-24T14:48:19.625505Z",
     "start_time": "2020-11-24T14:48:19.617526Z"
    }
   },
   "outputs": [
    {
     "data": {
      "text/plain": [
       "(5, 13)"
      ]
     },
     "execution_count": 1016,
     "metadata": {},
     "output_type": "execute_result"
    }
   ],
   "source": [
    "len(cat_columns),len(num_columns)"
   ]
  },
  {
   "cell_type": "code",
   "execution_count": 1017,
   "metadata": {
    "ExecuteTime": {
     "end_time": "2020-11-24T14:48:21.933771Z",
     "start_time": "2020-11-24T14:48:21.913825Z"
    }
   },
   "outputs": [],
   "source": [
    "numerical_pipeline = Pipeline([    \n",
    "    ('transformer', FunctionTransformer(np.log1p))])\n",
    "\n",
    "categorical_pipeline = Pipeline([\n",
    "    ('encoder', OneHotEncoder(handle_unknown='ignore'))])\n",
    "\n",
    "preprocessor = ColumnTransformer([\n",
    "    ('numeric', numerical_pipeline, num_columns),\n",
    "    ('categoric', categorical_pipeline, cat_columns)\n",
    "])\n",
    "\n",
    "RF_TUNED = Pipeline([\n",
    "    ('prep', preprocessor),\n",
    "    ('algo', RandomForestRegressor())\n",
    "])"
   ]
  },
  {
   "cell_type": "code",
   "execution_count": 526,
   "metadata": {
    "ExecuteTime": {
     "end_time": "2020-11-24T12:45:51.631376Z",
     "start_time": "2020-11-24T12:45:51.602428Z"
    }
   },
   "outputs": [
    {
     "data": {
      "text/plain": [
       "{'memory': None,\n",
       " 'steps': [('prep', ColumnTransformer(transformers=[('numeric',\n",
       "                                    Pipeline(steps=[('transformer',\n",
       "                                                     FunctionTransformer(func=<ufunc 'log1p'>))]),\n",
       "                                    ['minimum_nights', 'number_of_reviews',\n",
       "                                     'review_scores_rating',\n",
       "                                     'calculated_host_listings_count',\n",
       "                                     'availability_365', 'bedrooms', 'beds',\n",
       "                                     'bathrooms', 'guests_included',\n",
       "                                     'security_deposit', 'cleaning_fee',\n",
       "                                     'len_amenities', 'budget_dorm']),\n",
       "                                   ('categoric',\n",
       "                                    Pipeline(steps=[('encoder',\n",
       "                                                     OneHotEncoder(handle_unknown='ignore'))]),\n",
       "                                    ['neighbourhood_group', 'room_type',\n",
       "                                     'host_is_superhost', 'property_type',\n",
       "                                     'instant_bookable'])])),\n",
       "  ('algo', RandomForestRegressor())],\n",
       " 'verbose': False,\n",
       " 'prep': ColumnTransformer(transformers=[('numeric',\n",
       "                                  Pipeline(steps=[('transformer',\n",
       "                                                   FunctionTransformer(func=<ufunc 'log1p'>))]),\n",
       "                                  ['minimum_nights', 'number_of_reviews',\n",
       "                                   'review_scores_rating',\n",
       "                                   'calculated_host_listings_count',\n",
       "                                   'availability_365', 'bedrooms', 'beds',\n",
       "                                   'bathrooms', 'guests_included',\n",
       "                                   'security_deposit', 'cleaning_fee',\n",
       "                                   'len_amenities', 'budget_dorm']),\n",
       "                                 ('categoric',\n",
       "                                  Pipeline(steps=[('encoder',\n",
       "                                                   OneHotEncoder(handle_unknown='ignore'))]),\n",
       "                                  ['neighbourhood_group', 'room_type',\n",
       "                                   'host_is_superhost', 'property_type',\n",
       "                                   'instant_bookable'])]),\n",
       " 'algo': RandomForestRegressor(),\n",
       " 'prep__n_jobs': None,\n",
       " 'prep__remainder': 'drop',\n",
       " 'prep__sparse_threshold': 0.3,\n",
       " 'prep__transformer_weights': None,\n",
       " 'prep__transformers': [('numeric',\n",
       "   Pipeline(steps=[('transformer', FunctionTransformer(func=<ufunc 'log1p'>))]),\n",
       "   ['minimum_nights',\n",
       "    'number_of_reviews',\n",
       "    'review_scores_rating',\n",
       "    'calculated_host_listings_count',\n",
       "    'availability_365',\n",
       "    'bedrooms',\n",
       "    'beds',\n",
       "    'bathrooms',\n",
       "    'guests_included',\n",
       "    'security_deposit',\n",
       "    'cleaning_fee',\n",
       "    'len_amenities',\n",
       "    'budget_dorm']),\n",
       "  ('categoric',\n",
       "   Pipeline(steps=[('encoder', OneHotEncoder(handle_unknown='ignore'))]),\n",
       "   ['neighbourhood_group',\n",
       "    'room_type',\n",
       "    'host_is_superhost',\n",
       "    'property_type',\n",
       "    'instant_bookable'])],\n",
       " 'prep__verbose': False,\n",
       " 'prep__numeric': Pipeline(steps=[('transformer', FunctionTransformer(func=<ufunc 'log1p'>))]),\n",
       " 'prep__categoric': Pipeline(steps=[('encoder', OneHotEncoder(handle_unknown='ignore'))]),\n",
       " 'prep__numeric__memory': None,\n",
       " 'prep__numeric__steps': [('transformer',\n",
       "   FunctionTransformer(func=<ufunc 'log1p'>))],\n",
       " 'prep__numeric__verbose': False,\n",
       " 'prep__numeric__transformer': FunctionTransformer(func=<ufunc 'log1p'>),\n",
       " 'prep__numeric__transformer__accept_sparse': False,\n",
       " 'prep__numeric__transformer__check_inverse': True,\n",
       " 'prep__numeric__transformer__func': <ufunc 'log1p'>,\n",
       " 'prep__numeric__transformer__inv_kw_args': None,\n",
       " 'prep__numeric__transformer__inverse_func': None,\n",
       " 'prep__numeric__transformer__kw_args': None,\n",
       " 'prep__numeric__transformer__validate': False,\n",
       " 'prep__categoric__memory': None,\n",
       " 'prep__categoric__steps': [('encoder',\n",
       "   OneHotEncoder(handle_unknown='ignore'))],\n",
       " 'prep__categoric__verbose': False,\n",
       " 'prep__categoric__encoder': OneHotEncoder(handle_unknown='ignore'),\n",
       " 'prep__categoric__encoder__categories': 'auto',\n",
       " 'prep__categoric__encoder__drop': None,\n",
       " 'prep__categoric__encoder__dtype': numpy.float64,\n",
       " 'prep__categoric__encoder__handle_unknown': 'ignore',\n",
       " 'prep__categoric__encoder__sparse': True,\n",
       " 'algo__bootstrap': True,\n",
       " 'algo__ccp_alpha': 0.0,\n",
       " 'algo__criterion': 'mse',\n",
       " 'algo__max_depth': None,\n",
       " 'algo__max_features': 'auto',\n",
       " 'algo__max_leaf_nodes': None,\n",
       " 'algo__max_samples': None,\n",
       " 'algo__min_impurity_decrease': 0.0,\n",
       " 'algo__min_impurity_split': None,\n",
       " 'algo__min_samples_leaf': 1,\n",
       " 'algo__min_samples_split': 2,\n",
       " 'algo__min_weight_fraction_leaf': 0.0,\n",
       " 'algo__n_estimators': 100,\n",
       " 'algo__n_jobs': None,\n",
       " 'algo__oob_score': False,\n",
       " 'algo__random_state': None,\n",
       " 'algo__verbose': 0,\n",
       " 'algo__warm_start': False}"
      ]
     },
     "execution_count": 526,
     "metadata": {},
     "output_type": "execute_result"
    }
   ],
   "source": [
    "RF_TUNED.get_params()"
   ]
  },
  {
   "cell_type": "code",
   "execution_count": 476,
   "metadata": {
    "ExecuteTime": {
     "end_time": "2020-11-24T12:41:20.296582Z",
     "start_time": "2020-11-24T12:41:20.281621Z"
    }
   },
   "outputs": [],
   "source": [
    "# {'n_estimators': 500,\n",
    "#  'min_samples_split': 30,\n",
    "#  'min_samples_leaf': 30,\n",
    "#  'max_features': 15,\n",
    "#  'max_depth': 35,\n",
    "#  'bootstrap': False}"
   ]
  },
  {
   "cell_type": "code",
   "execution_count": null,
   "metadata": {},
   "outputs": [],
   "source": [
    "# #1\n",
    "# param_RF_TUNED = {'algo__max_depth': [12],\n",
    "#                  'algo__max_features': [14],\n",
    "#                  'algo__min_samples_split': [46],\n",
    "#                  'algo__n_estimators': [240],\n",
    "#                  'algo__bootstrap': [True],\n",
    "#                  'algo__min_samples_leaf': [20]}"
   ]
  },
  {
   "cell_type": "code",
   "execution_count": 707,
   "metadata": {
    "ExecuteTime": {
     "end_time": "2020-11-24T13:25:02.225136Z",
     "start_time": "2020-11-24T13:25:02.219152Z"
    }
   },
   "outputs": [],
   "source": [
    "# #2\n",
    "# param_RF_TUNED = {'algo__max_depth': [12],\n",
    "#                  'algo__max_features': [14],\n",
    "#                  'algo__min_samples_split': [30],\n",
    "#                  'algo__n_estimators': [240],\n",
    "#                  'algo__bootstrap': [True],\n",
    "#                  'algo__min_samples_leaf': [15]}"
   ]
  },
  {
   "cell_type": "code",
   "execution_count": 1018,
   "metadata": {
    "ExecuteTime": {
     "end_time": "2020-11-24T14:48:35.540725Z",
     "start_time": "2020-11-24T14:48:35.523766Z"
    }
   },
   "outputs": [],
   "source": [
    "param_RF_TUNED = {'algo__max_depth': [12],\n",
    "                 'algo__max_features': [14],\n",
    "                 'algo__min_samples_split': [46],\n",
    "                 'algo__n_estimators': [240],\n",
    "                 'algo__bootstrap': [True],\n",
    "                 'algo__min_samples_leaf': [23]}"
   ]
  },
  {
   "cell_type": "code",
   "execution_count": 1019,
   "metadata": {
    "ExecuteTime": {
     "end_time": "2020-11-24T14:48:37.486874Z",
     "start_time": "2020-11-24T14:48:37.465929Z"
    }
   },
   "outputs": [],
   "source": [
    "model_RF_TUNED = GridSearchCV(estimator=RF_TUNED, param_grid=param_RF_TUNED, cv=5, n_jobs=-1, verbose=1)"
   ]
  },
  {
   "cell_type": "code",
   "execution_count": 1020,
   "metadata": {
    "ExecuteTime": {
     "end_time": "2020-11-24T14:48:42.672019Z",
     "start_time": "2020-11-24T14:48:37.848128Z"
    },
    "scrolled": true
   },
   "outputs": [
    {
     "name": "stdout",
     "output_type": "stream",
     "text": [
      "Fitting 5 folds for each of 1 candidates, totalling 5 fits\n"
     ]
    },
    {
     "name": "stderr",
     "output_type": "stream",
     "text": [
      "[Parallel(n_jobs=-1)]: Using backend LokyBackend with 12 concurrent workers.\n",
      "[Parallel(n_jobs=-1)]: Done   5 out of   5 | elapsed:    3.3s finished\n"
     ]
    }
   ],
   "source": [
    "model_RF_TUNED.fit(X_train_pipe, y_train_pipe)\n",
    "model_RF_TUNED = model_RF_TUNED.best_estimator_\n",
    "y_pred = model_RF_TUNED.predict(X_test_pipe)"
   ]
  },
  {
   "cell_type": "code",
   "execution_count": 1021,
   "metadata": {
    "ExecuteTime": {
     "end_time": "2020-11-24T14:48:42.783754Z",
     "start_time": "2020-11-24T14:48:42.673014Z"
    },
    "scrolled": true
   },
   "outputs": [
    {
     "name": "stdout",
     "output_type": "stream",
     "text": [
      "R2 Train: 0.7481696535199623\n",
      "R2 Score: 0.7147974895550266\n",
      "MAE: 0.26020504586584325\n",
      "MSE: 0.12998198088249696\n",
      "RMSE: 0.36053013866041345\n"
     ]
    }
   ],
   "source": [
    "r2_tuned_RF_TUNED = r2_score(y_test_pipe, y_pred)\n",
    "MAE_tune_RF_TUNED = mean_absolute_error(y_test_pipe, y_pred)\n",
    "MSE_tune_RF_TUNED = mean_squared_error(y_test_pipe, y_pred)\n",
    "RMSE_tune_RF_TUNED = np.sqrt(MSE_tune_RF_TUNED)\n",
    "print(f\"R2 Train: {model_RF_TUNED.score(X_train_pipe, y_train_pipe)}\")\n",
    "print(f\"R2 Score: {r2_tuned_RF_TUNED}\\nMAE: {MAE_tune_RF_TUNED}\\nMSE: {MSE_tune_RF_TUNED}\\nRMSE: {RMSE_tune_RF_TUNED}\")"
   ]
  },
  {
   "cell_type": "code",
   "execution_count": null,
   "metadata": {},
   "outputs": [],
   "source": []
  },
  {
   "cell_type": "code",
   "execution_count": 147,
   "metadata": {
    "ExecuteTime": {
     "end_time": "2020-11-24T06:31:34.419533Z",
     "start_time": "2020-11-24T06:31:34.410556Z"
    }
   },
   "outputs": [],
   "source": [
    "predicts = pd.DataFrame(data = [['North Region', 'Private room', 20, 20, 30, 12, 't', 'Apartment', 4, 3, 5, 80, 't', 3, 10, 10, 12,1]], columns=['neighbourhood_group','room_type','minimum_nights','reviews_per_month','calculated_host_listings_count','availability_365','host_is_superhost','property_type','bedrooms','beds','guests_included','review_scores_rating','instant_bookable','bathrooms','security_deposit', 'cleaning_fee','len_amenities','budget_dorm'])\n"
   ]
  },
  {
   "cell_type": "code",
   "execution_count": 1027,
   "metadata": {
    "ExecuteTime": {
     "end_time": "2020-11-24T14:49:34.288861Z",
     "start_time": "2020-11-24T14:49:34.094696Z"
    }
   },
   "outputs": [],
   "source": [
    "model = joblib.load('ModelAirbnbFinal')"
   ]
  },
  {
   "cell_type": "code",
   "execution_count": 1028,
   "metadata": {
    "ExecuteTime": {
     "end_time": "2020-11-24T14:49:37.582007Z",
     "start_time": "2020-11-24T14:49:37.563057Z"
    },
    "scrolled": true
   },
   "outputs": [
    {
     "data": {
      "text/html": [
       "<div>\n",
       "<style scoped>\n",
       "    .dataframe tbody tr th:only-of-type {\n",
       "        vertical-align: middle;\n",
       "    }\n",
       "\n",
       "    .dataframe tbody tr th {\n",
       "        vertical-align: top;\n",
       "    }\n",
       "\n",
       "    .dataframe thead th {\n",
       "        text-align: right;\n",
       "    }\n",
       "</style>\n",
       "<table border=\"1\" class=\"dataframe\">\n",
       "  <thead>\n",
       "    <tr style=\"text-align: right;\">\n",
       "      <th></th>\n",
       "      <th>neighbourhood_group</th>\n",
       "      <th>room_type</th>\n",
       "      <th>minimum_nights</th>\n",
       "      <th>reviews_per_month</th>\n",
       "      <th>calculated_host_listings_count</th>\n",
       "      <th>availability_365</th>\n",
       "      <th>host_is_superhost</th>\n",
       "      <th>property_type</th>\n",
       "      <th>bedrooms</th>\n",
       "      <th>beds</th>\n",
       "      <th>guests_included</th>\n",
       "      <th>review_scores_rating</th>\n",
       "      <th>instant_bookable</th>\n",
       "      <th>bathrooms</th>\n",
       "      <th>security_deposit</th>\n",
       "      <th>cleaning_fee</th>\n",
       "      <th>len_amenities</th>\n",
       "      <th>budget_dorm</th>\n",
       "    </tr>\n",
       "  </thead>\n",
       "  <tbody>\n",
       "    <tr>\n",
       "      <th>0</th>\n",
       "      <td>North Region</td>\n",
       "      <td>Private room</td>\n",
       "      <td>20</td>\n",
       "      <td>20</td>\n",
       "      <td>30</td>\n",
       "      <td>12</td>\n",
       "      <td>t</td>\n",
       "      <td>Apartment</td>\n",
       "      <td>4</td>\n",
       "      <td>3</td>\n",
       "      <td>5</td>\n",
       "      <td>80</td>\n",
       "      <td>t</td>\n",
       "      <td>3</td>\n",
       "      <td>10</td>\n",
       "      <td>10</td>\n",
       "      <td>12</td>\n",
       "      <td>1</td>\n",
       "    </tr>\n",
       "  </tbody>\n",
       "</table>\n",
       "</div>"
      ],
      "text/plain": [
       "  neighbourhood_group     room_type  minimum_nights  reviews_per_month  \\\n",
       "0        North Region  Private room              20                 20   \n",
       "\n",
       "   calculated_host_listings_count  availability_365 host_is_superhost  \\\n",
       "0                              30                12                 t   \n",
       "\n",
       "  property_type  bedrooms  beds  guests_included  review_scores_rating  \\\n",
       "0     Apartment         4     3                5                    80   \n",
       "\n",
       "  instant_bookable  bathrooms  security_deposit  cleaning_fee  len_amenities  \\\n",
       "0                t          3                10            10             12   \n",
       "\n",
       "   budget_dorm  \n",
       "0            1  "
      ]
     },
     "execution_count": 1028,
     "metadata": {},
     "output_type": "execute_result"
    }
   ],
   "source": [
    "predicts"
   ]
  },
  {
   "cell_type": "code",
   "execution_count": 1029,
   "metadata": {
    "ExecuteTime": {
     "end_time": "2020-11-24T14:49:38.888478Z",
     "start_time": "2020-11-24T14:49:38.846592Z"
    },
    "scrolled": true
   },
   "outputs": [
    {
     "ename": "ValueError",
     "evalue": "could not convert string to float: 'North Region'",
     "output_type": "error",
     "traceback": [
      "\u001b[1;31m---------------------------------------------------------------------------\u001b[0m",
      "\u001b[1;31mValueError\u001b[0m                                Traceback (most recent call last)",
      "\u001b[1;32m<ipython-input-1029-f58e2b837abc>\u001b[0m in \u001b[0;36m<module>\u001b[1;34m\u001b[0m\n\u001b[1;32m----> 1\u001b[1;33m \u001b[0mpred\u001b[0m \u001b[1;33m=\u001b[0m \u001b[0mmodel\u001b[0m\u001b[1;33m.\u001b[0m\u001b[0mpredict\u001b[0m\u001b[1;33m(\u001b[0m\u001b[0mpredicts\u001b[0m\u001b[1;33m)\u001b[0m\u001b[1;33m\u001b[0m\u001b[1;33m\u001b[0m\u001b[0m\n\u001b[0m",
      "\u001b[1;32m~\\anaconda3\\lib\\site-packages\\sklearn\\ensemble\\_forest.py\u001b[0m in \u001b[0;36mpredict\u001b[1;34m(self, X)\u001b[0m\n\u001b[0;32m    781\u001b[0m         \u001b[0mcheck_is_fitted\u001b[0m\u001b[1;33m(\u001b[0m\u001b[0mself\u001b[0m\u001b[1;33m)\u001b[0m\u001b[1;33m\u001b[0m\u001b[1;33m\u001b[0m\u001b[0m\n\u001b[0;32m    782\u001b[0m         \u001b[1;31m# Check data\u001b[0m\u001b[1;33m\u001b[0m\u001b[1;33m\u001b[0m\u001b[1;33m\u001b[0m\u001b[0m\n\u001b[1;32m--> 783\u001b[1;33m         \u001b[0mX\u001b[0m \u001b[1;33m=\u001b[0m \u001b[0mself\u001b[0m\u001b[1;33m.\u001b[0m\u001b[0m_validate_X_predict\u001b[0m\u001b[1;33m(\u001b[0m\u001b[0mX\u001b[0m\u001b[1;33m)\u001b[0m\u001b[1;33m\u001b[0m\u001b[1;33m\u001b[0m\u001b[0m\n\u001b[0m\u001b[0;32m    784\u001b[0m \u001b[1;33m\u001b[0m\u001b[0m\n\u001b[0;32m    785\u001b[0m         \u001b[1;31m# Assign chunk of trees to jobs\u001b[0m\u001b[1;33m\u001b[0m\u001b[1;33m\u001b[0m\u001b[1;33m\u001b[0m\u001b[0m\n",
      "\u001b[1;32m~\\anaconda3\\lib\\site-packages\\sklearn\\ensemble\\_forest.py\u001b[0m in \u001b[0;36m_validate_X_predict\u001b[1;34m(self, X)\u001b[0m\n\u001b[0;32m    419\u001b[0m         \u001b[0mcheck_is_fitted\u001b[0m\u001b[1;33m(\u001b[0m\u001b[0mself\u001b[0m\u001b[1;33m)\u001b[0m\u001b[1;33m\u001b[0m\u001b[1;33m\u001b[0m\u001b[0m\n\u001b[0;32m    420\u001b[0m \u001b[1;33m\u001b[0m\u001b[0m\n\u001b[1;32m--> 421\u001b[1;33m         \u001b[1;32mreturn\u001b[0m \u001b[0mself\u001b[0m\u001b[1;33m.\u001b[0m\u001b[0mestimators_\u001b[0m\u001b[1;33m[\u001b[0m\u001b[1;36m0\u001b[0m\u001b[1;33m]\u001b[0m\u001b[1;33m.\u001b[0m\u001b[0m_validate_X_predict\u001b[0m\u001b[1;33m(\u001b[0m\u001b[0mX\u001b[0m\u001b[1;33m,\u001b[0m \u001b[0mcheck_input\u001b[0m\u001b[1;33m=\u001b[0m\u001b[1;32mTrue\u001b[0m\u001b[1;33m)\u001b[0m\u001b[1;33m\u001b[0m\u001b[1;33m\u001b[0m\u001b[0m\n\u001b[0m\u001b[0;32m    422\u001b[0m \u001b[1;33m\u001b[0m\u001b[0m\n\u001b[0;32m    423\u001b[0m     \u001b[1;33m@\u001b[0m\u001b[0mproperty\u001b[0m\u001b[1;33m\u001b[0m\u001b[1;33m\u001b[0m\u001b[0m\n",
      "\u001b[1;32m~\\anaconda3\\lib\\site-packages\\sklearn\\tree\\_classes.py\u001b[0m in \u001b[0;36m_validate_X_predict\u001b[1;34m(self, X, check_input)\u001b[0m\n\u001b[0;32m    386\u001b[0m         \u001b[1;34m\"\"\"Validate X whenever one tries to predict, apply, predict_proba\"\"\"\u001b[0m\u001b[1;33m\u001b[0m\u001b[1;33m\u001b[0m\u001b[0m\n\u001b[0;32m    387\u001b[0m         \u001b[1;32mif\u001b[0m \u001b[0mcheck_input\u001b[0m\u001b[1;33m:\u001b[0m\u001b[1;33m\u001b[0m\u001b[1;33m\u001b[0m\u001b[0m\n\u001b[1;32m--> 388\u001b[1;33m             \u001b[0mX\u001b[0m \u001b[1;33m=\u001b[0m \u001b[0mcheck_array\u001b[0m\u001b[1;33m(\u001b[0m\u001b[0mX\u001b[0m\u001b[1;33m,\u001b[0m \u001b[0mdtype\u001b[0m\u001b[1;33m=\u001b[0m\u001b[0mDTYPE\u001b[0m\u001b[1;33m,\u001b[0m \u001b[0maccept_sparse\u001b[0m\u001b[1;33m=\u001b[0m\u001b[1;34m\"csr\"\u001b[0m\u001b[1;33m)\u001b[0m\u001b[1;33m\u001b[0m\u001b[1;33m\u001b[0m\u001b[0m\n\u001b[0m\u001b[0;32m    389\u001b[0m             if issparse(X) and (X.indices.dtype != np.intc or\n\u001b[0;32m    390\u001b[0m                                 X.indptr.dtype != np.intc):\n",
      "\u001b[1;32m~\\anaconda3\\lib\\site-packages\\sklearn\\utils\\validation.py\u001b[0m in \u001b[0;36minner_f\u001b[1;34m(*args, **kwargs)\u001b[0m\n\u001b[0;32m     71\u001b[0m                           FutureWarning)\n\u001b[0;32m     72\u001b[0m         \u001b[0mkwargs\u001b[0m\u001b[1;33m.\u001b[0m\u001b[0mupdate\u001b[0m\u001b[1;33m(\u001b[0m\u001b[1;33m{\u001b[0m\u001b[0mk\u001b[0m\u001b[1;33m:\u001b[0m \u001b[0marg\u001b[0m \u001b[1;32mfor\u001b[0m \u001b[0mk\u001b[0m\u001b[1;33m,\u001b[0m \u001b[0marg\u001b[0m \u001b[1;32min\u001b[0m \u001b[0mzip\u001b[0m\u001b[1;33m(\u001b[0m\u001b[0msig\u001b[0m\u001b[1;33m.\u001b[0m\u001b[0mparameters\u001b[0m\u001b[1;33m,\u001b[0m \u001b[0margs\u001b[0m\u001b[1;33m)\u001b[0m\u001b[1;33m}\u001b[0m\u001b[1;33m)\u001b[0m\u001b[1;33m\u001b[0m\u001b[1;33m\u001b[0m\u001b[0m\n\u001b[1;32m---> 73\u001b[1;33m         \u001b[1;32mreturn\u001b[0m \u001b[0mf\u001b[0m\u001b[1;33m(\u001b[0m\u001b[1;33m**\u001b[0m\u001b[0mkwargs\u001b[0m\u001b[1;33m)\u001b[0m\u001b[1;33m\u001b[0m\u001b[1;33m\u001b[0m\u001b[0m\n\u001b[0m\u001b[0;32m     74\u001b[0m     \u001b[1;32mreturn\u001b[0m \u001b[0minner_f\u001b[0m\u001b[1;33m\u001b[0m\u001b[1;33m\u001b[0m\u001b[0m\n\u001b[0;32m     75\u001b[0m \u001b[1;33m\u001b[0m\u001b[0m\n",
      "\u001b[1;32m~\\anaconda3\\lib\\site-packages\\sklearn\\utils\\validation.py\u001b[0m in \u001b[0;36mcheck_array\u001b[1;34m(array, accept_sparse, accept_large_sparse, dtype, order, copy, force_all_finite, ensure_2d, allow_nd, ensure_min_samples, ensure_min_features, estimator)\u001b[0m\n\u001b[0;32m    597\u001b[0m                     \u001b[0marray\u001b[0m \u001b[1;33m=\u001b[0m \u001b[0marray\u001b[0m\u001b[1;33m.\u001b[0m\u001b[0mastype\u001b[0m\u001b[1;33m(\u001b[0m\u001b[0mdtype\u001b[0m\u001b[1;33m,\u001b[0m \u001b[0mcasting\u001b[0m\u001b[1;33m=\u001b[0m\u001b[1;34m\"unsafe\"\u001b[0m\u001b[1;33m,\u001b[0m \u001b[0mcopy\u001b[0m\u001b[1;33m=\u001b[0m\u001b[1;32mFalse\u001b[0m\u001b[1;33m)\u001b[0m\u001b[1;33m\u001b[0m\u001b[1;33m\u001b[0m\u001b[0m\n\u001b[0;32m    598\u001b[0m                 \u001b[1;32melse\u001b[0m\u001b[1;33m:\u001b[0m\u001b[1;33m\u001b[0m\u001b[1;33m\u001b[0m\u001b[0m\n\u001b[1;32m--> 599\u001b[1;33m                     \u001b[0marray\u001b[0m \u001b[1;33m=\u001b[0m \u001b[0mnp\u001b[0m\u001b[1;33m.\u001b[0m\u001b[0masarray\u001b[0m\u001b[1;33m(\u001b[0m\u001b[0marray\u001b[0m\u001b[1;33m,\u001b[0m \u001b[0morder\u001b[0m\u001b[1;33m=\u001b[0m\u001b[0morder\u001b[0m\u001b[1;33m,\u001b[0m \u001b[0mdtype\u001b[0m\u001b[1;33m=\u001b[0m\u001b[0mdtype\u001b[0m\u001b[1;33m)\u001b[0m\u001b[1;33m\u001b[0m\u001b[1;33m\u001b[0m\u001b[0m\n\u001b[0m\u001b[0;32m    600\u001b[0m             \u001b[1;32mexcept\u001b[0m \u001b[0mComplexWarning\u001b[0m\u001b[1;33m:\u001b[0m\u001b[1;33m\u001b[0m\u001b[1;33m\u001b[0m\u001b[0m\n\u001b[0;32m    601\u001b[0m                 raise ValueError(\"Complex data not supported\\n\"\n",
      "\u001b[1;32m~\\anaconda3\\lib\\site-packages\\numpy\\core\\_asarray.py\u001b[0m in \u001b[0;36masarray\u001b[1;34m(a, dtype, order)\u001b[0m\n\u001b[0;32m     83\u001b[0m \u001b[1;33m\u001b[0m\u001b[0m\n\u001b[0;32m     84\u001b[0m     \"\"\"\n\u001b[1;32m---> 85\u001b[1;33m     \u001b[1;32mreturn\u001b[0m \u001b[0marray\u001b[0m\u001b[1;33m(\u001b[0m\u001b[0ma\u001b[0m\u001b[1;33m,\u001b[0m \u001b[0mdtype\u001b[0m\u001b[1;33m,\u001b[0m \u001b[0mcopy\u001b[0m\u001b[1;33m=\u001b[0m\u001b[1;32mFalse\u001b[0m\u001b[1;33m,\u001b[0m \u001b[0morder\u001b[0m\u001b[1;33m=\u001b[0m\u001b[0morder\u001b[0m\u001b[1;33m)\u001b[0m\u001b[1;33m\u001b[0m\u001b[1;33m\u001b[0m\u001b[0m\n\u001b[0m\u001b[0;32m     86\u001b[0m \u001b[1;33m\u001b[0m\u001b[0m\n\u001b[0;32m     87\u001b[0m \u001b[1;33m\u001b[0m\u001b[0m\n",
      "\u001b[1;31mValueError\u001b[0m: could not convert string to float: 'North Region'"
     ]
    }
   ],
   "source": [
    "pred = model.predict(predicts)"
   ]
  },
  {
   "cell_type": "code",
   "execution_count": 171,
   "metadata": {
    "ExecuteTime": {
     "end_time": "2020-11-24T06:46:58.507868Z",
     "start_time": "2020-11-24T06:46:58.488918Z"
    },
    "scrolled": true
   },
   "outputs": [
    {
     "name": "stdout",
     "output_type": "stream",
     "text": [
      "Your Expected Price is S$ 88.42\n"
     ]
    }
   ],
   "source": [
    "print(\"Your Expected Price is S$\",(np.expm1(pred)[0]).round(2))"
   ]
  },
  {
   "cell_type": "markdown",
   "metadata": {},
   "source": [
    "# Deployment"
   ]
  },
  {
   "cell_type": "code",
   "execution_count": 1033,
   "metadata": {
    "ExecuteTime": {
     "end_time": "2020-11-24T14:50:30.943545Z",
     "start_time": "2020-11-24T14:50:30.936564Z"
    }
   },
   "outputs": [],
   "source": [
    "import joblib"
   ]
  },
  {
   "cell_type": "code",
   "execution_count": 1034,
   "metadata": {
    "ExecuteTime": {
     "end_time": "2020-11-24T14:50:31.522063Z",
     "start_time": "2020-11-24T14:50:31.434298Z"
    }
   },
   "outputs": [
    {
     "data": {
      "text/plain": [
       "['AIRBNBMODELFINAL']"
      ]
     },
     "execution_count": 1034,
     "metadata": {},
     "output_type": "execute_result"
    }
   ],
   "source": [
    "joblib.dump(model_RF_TUNED,'AIRBNBMODELFINAL')"
   ]
  },
  {
   "cell_type": "code",
   "execution_count": null,
   "metadata": {},
   "outputs": [],
   "source": []
  },
  {
   "cell_type": "code",
   "execution_count": null,
   "metadata": {},
   "outputs": [],
   "source": []
  }
 ],
 "metadata": {
  "kernelspec": {
   "display_name": "Python 3",
   "language": "python",
   "name": "python3"
  },
  "language_info": {
   "codemirror_mode": {
    "name": "ipython",
    "version": 3
   },
   "file_extension": ".py",
   "mimetype": "text/x-python",
   "name": "python",
   "nbconvert_exporter": "python",
   "pygments_lexer": "ipython3",
   "version": "3.8.3"
  },
  "toc": {
   "base_numbering": 1,
   "nav_menu": {},
   "number_sections": true,
   "sideBar": true,
   "skip_h1_title": false,
   "title_cell": "Table of Contents",
   "title_sidebar": "Contents",
   "toc_cell": false,
   "toc_position": {},
   "toc_section_display": true,
   "toc_window_display": true
  }
 },
 "nbformat": 4,
 "nbformat_minor": 4
}
